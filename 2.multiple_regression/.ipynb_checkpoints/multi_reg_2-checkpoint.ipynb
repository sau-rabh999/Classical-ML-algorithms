{
 "cells": [
  {
   "cell_type": "markdown",
   "metadata": {
    "id": "fPXSSKuHjpnF"
   },
   "source": [
    "**Using Technology: U.S. Economy Case Study**\n",
    "\n",
    "U.S.. economic data 1976 to 1987\n",
    "\n",
    "X1 = dollars/barrel crude oil\n",
    "\n",
    "X2 = % interest on ten yr. U.S. treasury notes\n",
    "\n",
    "X3 = foreign investments/billions of dollars\n",
    "\n",
    "X4 = Dow Jones industrial average\n",
    "\n",
    "X5 = GNP/billions of dollars\n",
    "\n",
    "X6 = purchasing power U.S. dollar (1983 base)\n",
    "\n",
    "X7 = consumer debt/billions of dollars\n",
    "\n",
    "Reference: Statistical Abstract of the United States 103rd and 109th ediiton"
   ]
  },
  {
   "cell_type": "code",
   "execution_count": null,
   "metadata": {
    "id": "By7Ijfr8jaCE"
   },
   "outputs": [],
   "source": [
    "import numpy as np\n",
    "import matplotlib.pyplot as plt\n",
    "import pandas as pd"
   ]
  },
  {
   "cell_type": "code",
   "execution_count": null,
   "metadata": {
    "colab": {
     "base_uri": "https://localhost:8080/",
     "height": 426
    },
    "id": "FO5irfpNkRn8",
    "outputId": "abc2f837-7981-4ec0-f3d2-961b15eb2041"
   },
   "outputs": [
    {
     "data": {
      "text/html": [
       "\n",
       "  <div id=\"df-6422801a-21f9-4f8f-a236-207c4645444a\">\n",
       "    <div class=\"colab-df-container\">\n",
       "      <div>\n",
       "<style scoped>\n",
       "    .dataframe tbody tr th:only-of-type {\n",
       "        vertical-align: middle;\n",
       "    }\n",
       "\n",
       "    .dataframe tbody tr th {\n",
       "        vertical-align: top;\n",
       "    }\n",
       "\n",
       "    .dataframe thead th {\n",
       "        text-align: right;\n",
       "    }\n",
       "</style>\n",
       "<table border=\"1\" class=\"dataframe\">\n",
       "  <thead>\n",
       "    <tr style=\"text-align: right;\">\n",
       "      <th></th>\n",
       "      <th>CRUDE</th>\n",
       "      <th>INTEREST</th>\n",
       "      <th>FOREIGN</th>\n",
       "      <th>DJIA</th>\n",
       "      <th>GNP</th>\n",
       "      <th>PURCHASE</th>\n",
       "      <th>CONSUMER</th>\n",
       "    </tr>\n",
       "  </thead>\n",
       "  <tbody>\n",
       "    <tr>\n",
       "      <th>0</th>\n",
       "      <td>10.900000</td>\n",
       "      <td>7.610000</td>\n",
       "      <td>31</td>\n",
       "      <td>974.900024</td>\n",
       "      <td>1718</td>\n",
       "      <td>1.757</td>\n",
       "      <td>234.399994</td>\n",
       "    </tr>\n",
       "    <tr>\n",
       "      <th>1</th>\n",
       "      <td>12.000000</td>\n",
       "      <td>7.420000</td>\n",
       "      <td>35</td>\n",
       "      <td>894.599976</td>\n",
       "      <td>1918</td>\n",
       "      <td>1.649</td>\n",
       "      <td>263.799988</td>\n",
       "    </tr>\n",
       "    <tr>\n",
       "      <th>2</th>\n",
       "      <td>12.500000</td>\n",
       "      <td>8.410000</td>\n",
       "      <td>42</td>\n",
       "      <td>820.200012</td>\n",
       "      <td>2164</td>\n",
       "      <td>1.532</td>\n",
       "      <td>308.299988</td>\n",
       "    </tr>\n",
       "    <tr>\n",
       "      <th>3</th>\n",
       "      <td>17.700001</td>\n",
       "      <td>9.439999</td>\n",
       "      <td>54</td>\n",
       "      <td>844.400024</td>\n",
       "      <td>2418</td>\n",
       "      <td>1.380</td>\n",
       "      <td>347.500000</td>\n",
       "    </tr>\n",
       "    <tr>\n",
       "      <th>4</th>\n",
       "      <td>28.100000</td>\n",
       "      <td>11.460000</td>\n",
       "      <td>83</td>\n",
       "      <td>891.400024</td>\n",
       "      <td>2732</td>\n",
       "      <td>1.215</td>\n",
       "      <td>349.399994</td>\n",
       "    </tr>\n",
       "    <tr>\n",
       "      <th>5</th>\n",
       "      <td>35.599998</td>\n",
       "      <td>13.910000</td>\n",
       "      <td>109</td>\n",
       "      <td>932.900024</td>\n",
       "      <td>3053</td>\n",
       "      <td>1.098</td>\n",
       "      <td>366.600006</td>\n",
       "    </tr>\n",
       "    <tr>\n",
       "      <th>6</th>\n",
       "      <td>31.799999</td>\n",
       "      <td>13.000000</td>\n",
       "      <td>125</td>\n",
       "      <td>884.400024</td>\n",
       "      <td>3166</td>\n",
       "      <td>1.035</td>\n",
       "      <td>381.100006</td>\n",
       "    </tr>\n",
       "    <tr>\n",
       "      <th>7</th>\n",
       "      <td>29.000000</td>\n",
       "      <td>11.110000</td>\n",
       "      <td>137</td>\n",
       "      <td>1190.300049</td>\n",
       "      <td>3406</td>\n",
       "      <td>1.000</td>\n",
       "      <td>430.399994</td>\n",
       "    </tr>\n",
       "    <tr>\n",
       "      <th>8</th>\n",
       "      <td>28.600000</td>\n",
       "      <td>12.440000</td>\n",
       "      <td>165</td>\n",
       "      <td>1178.500000</td>\n",
       "      <td>3772</td>\n",
       "      <td>0.961</td>\n",
       "      <td>511.799988</td>\n",
       "    </tr>\n",
       "    <tr>\n",
       "      <th>9</th>\n",
       "      <td>26.799999</td>\n",
       "      <td>10.620000</td>\n",
       "      <td>185</td>\n",
       "      <td>1328.199951</td>\n",
       "      <td>4015</td>\n",
       "      <td>0.928</td>\n",
       "      <td>592.400024</td>\n",
       "    </tr>\n",
       "    <tr>\n",
       "      <th>10</th>\n",
       "      <td>14.600000</td>\n",
       "      <td>7.680000</td>\n",
       "      <td>209</td>\n",
       "      <td>1792.800049</td>\n",
       "      <td>4240</td>\n",
       "      <td>0.913</td>\n",
       "      <td>646.099976</td>\n",
       "    </tr>\n",
       "    <tr>\n",
       "      <th>11</th>\n",
       "      <td>17.900000</td>\n",
       "      <td>8.380000</td>\n",
       "      <td>244</td>\n",
       "      <td>2276.000000</td>\n",
       "      <td>4527</td>\n",
       "      <td>0.880</td>\n",
       "      <td>685.500000</td>\n",
       "    </tr>\n",
       "  </tbody>\n",
       "</table>\n",
       "</div>\n",
       "      <button class=\"colab-df-convert\" onclick=\"convertToInteractive('df-6422801a-21f9-4f8f-a236-207c4645444a')\"\n",
       "              title=\"Convert this dataframe to an interactive table.\"\n",
       "              style=\"display:none;\">\n",
       "        \n",
       "  <svg xmlns=\"http://www.w3.org/2000/svg\" height=\"24px\"viewBox=\"0 0 24 24\"\n",
       "       width=\"24px\">\n",
       "    <path d=\"M0 0h24v24H0V0z\" fill=\"none\"/>\n",
       "    <path d=\"M18.56 5.44l.94 2.06.94-2.06 2.06-.94-2.06-.94-.94-2.06-.94 2.06-2.06.94zm-11 1L8.5 8.5l.94-2.06 2.06-.94-2.06-.94L8.5 2.5l-.94 2.06-2.06.94zm10 10l.94 2.06.94-2.06 2.06-.94-2.06-.94-.94-2.06-.94 2.06-2.06.94z\"/><path d=\"M17.41 7.96l-1.37-1.37c-.4-.4-.92-.59-1.43-.59-.52 0-1.04.2-1.43.59L10.3 9.45l-7.72 7.72c-.78.78-.78 2.05 0 2.83L4 21.41c.39.39.9.59 1.41.59.51 0 1.02-.2 1.41-.59l7.78-7.78 2.81-2.81c.8-.78.8-2.07 0-2.86zM5.41 20L4 18.59l7.72-7.72 1.47 1.35L5.41 20z\"/>\n",
       "  </svg>\n",
       "      </button>\n",
       "      \n",
       "  <style>\n",
       "    .colab-df-container {\n",
       "      display:flex;\n",
       "      flex-wrap:wrap;\n",
       "      gap: 12px;\n",
       "    }\n",
       "\n",
       "    .colab-df-convert {\n",
       "      background-color: #E8F0FE;\n",
       "      border: none;\n",
       "      border-radius: 50%;\n",
       "      cursor: pointer;\n",
       "      display: none;\n",
       "      fill: #1967D2;\n",
       "      height: 32px;\n",
       "      padding: 0 0 0 0;\n",
       "      width: 32px;\n",
       "    }\n",
       "\n",
       "    .colab-df-convert:hover {\n",
       "      background-color: #E2EBFA;\n",
       "      box-shadow: 0px 1px 2px rgba(60, 64, 67, 0.3), 0px 1px 3px 1px rgba(60, 64, 67, 0.15);\n",
       "      fill: #174EA6;\n",
       "    }\n",
       "\n",
       "    [theme=dark] .colab-df-convert {\n",
       "      background-color: #3B4455;\n",
       "      fill: #D2E3FC;\n",
       "    }\n",
       "\n",
       "    [theme=dark] .colab-df-convert:hover {\n",
       "      background-color: #434B5C;\n",
       "      box-shadow: 0px 1px 3px 1px rgba(0, 0, 0, 0.15);\n",
       "      filter: drop-shadow(0px 1px 2px rgba(0, 0, 0, 0.3));\n",
       "      fill: #FFFFFF;\n",
       "    }\n",
       "  </style>\n",
       "\n",
       "      <script>\n",
       "        const buttonEl =\n",
       "          document.querySelector('#df-6422801a-21f9-4f8f-a236-207c4645444a button.colab-df-convert');\n",
       "        buttonEl.style.display =\n",
       "          google.colab.kernel.accessAllowed ? 'block' : 'none';\n",
       "\n",
       "        async function convertToInteractive(key) {\n",
       "          const element = document.querySelector('#df-6422801a-21f9-4f8f-a236-207c4645444a');\n",
       "          const dataTable =\n",
       "            await google.colab.kernel.invokeFunction('convertToInteractive',\n",
       "                                                     [key], {});\n",
       "          if (!dataTable) return;\n",
       "\n",
       "          const docLinkHtml = 'Like what you see? Visit the ' +\n",
       "            '<a target=\"_blank\" href=https://colab.research.google.com/notebooks/data_table.ipynb>data table notebook</a>'\n",
       "            + ' to learn more about interactive tables.';\n",
       "          element.innerHTML = '';\n",
       "          dataTable['output_type'] = 'display_data';\n",
       "          await google.colab.output.renderOutput(dataTable, element);\n",
       "          const docLink = document.createElement('div');\n",
       "          docLink.innerHTML = docLinkHtml;\n",
       "          element.appendChild(docLink);\n",
       "        }\n",
       "      </script>\n",
       "    </div>\n",
       "  </div>\n",
       "  "
      ],
      "text/plain": [
       "        CRUDE   INTEREST  FOREIGN         DJIA   GNP  PURCHASE    CONSUMER\n",
       "0   10.900000   7.610000       31   974.900024  1718     1.757  234.399994\n",
       "1   12.000000   7.420000       35   894.599976  1918     1.649  263.799988\n",
       "2   12.500000   8.410000       42   820.200012  2164     1.532  308.299988\n",
       "3   17.700001   9.439999       54   844.400024  2418     1.380  347.500000\n",
       "4   28.100000  11.460000       83   891.400024  2732     1.215  349.399994\n",
       "5   35.599998  13.910000      109   932.900024  3053     1.098  366.600006\n",
       "6   31.799999  13.000000      125   884.400024  3166     1.035  381.100006\n",
       "7   29.000000  11.110000      137  1190.300049  3406     1.000  430.399994\n",
       "8   28.600000  12.440000      165  1178.500000  3772     0.961  511.799988\n",
       "9   26.799999  10.620000      185  1328.199951  4015     0.928  592.400024\n",
       "10  14.600000   7.680000      209  1792.800049  4240     0.913  646.099976\n",
       "11  17.900000   8.380000      244  2276.000000  4527     0.880  685.500000"
      ]
     },
     "execution_count": 14,
     "metadata": {},
     "output_type": "execute_result"
    }
   ],
   "source": [
    "df = pd.read_csv('tech_economy.csv')\n",
    "df"
   ]
  },
  {
   "cell_type": "code",
   "execution_count": null,
   "metadata": {
    "colab": {
     "base_uri": "https://localhost:8080/"
    },
    "id": "juS5vWUikxgH",
    "outputId": "706599c5-05dc-47e7-eedb-d3b3c56fdc55"
   },
   "outputs": [
    {
     "data": {
      "text/plain": [
       "<bound method NDFrame.describe of         CRUDE   INTEREST  FOREIGN         DJIA   GNP  PURCHASE    CONSUMER\n",
       "0   10.900000   7.610000       31   974.900024  1718     1.757  234.399994\n",
       "1   12.000000   7.420000       35   894.599976  1918     1.649  263.799988\n",
       "2   12.500000   8.410000       42   820.200012  2164     1.532  308.299988\n",
       "3   17.700001   9.439999       54   844.400024  2418     1.380  347.500000\n",
       "4   28.100000  11.460000       83   891.400024  2732     1.215  349.399994\n",
       "5   35.599998  13.910000      109   932.900024  3053     1.098  366.600006\n",
       "6   31.799999  13.000000      125   884.400024  3166     1.035  381.100006\n",
       "7   29.000000  11.110000      137  1190.300049  3406     1.000  430.399994\n",
       "8   28.600000  12.440000      165  1178.500000  3772     0.961  511.799988\n",
       "9   26.799999  10.620000      185  1328.199951  4015     0.928  592.400024\n",
       "10  14.600000   7.680000      209  1792.800049  4240     0.913  646.099976\n",
       "11  17.900000   8.380000      244  2276.000000  4527     0.880  685.500000>"
      ]
     },
     "execution_count": 15,
     "metadata": {},
     "output_type": "execute_result"
    }
   ],
   "source": [
    "df.describe"
   ]
  },
  {
   "cell_type": "code",
   "execution_count": null,
   "metadata": {
    "colab": {
     "base_uri": "https://localhost:8080/"
    },
    "id": "WlOKO2Sak6rl",
    "outputId": "d252a1c0-158b-494f-be47-98c10abd990a"
   },
   "outputs": [
    {
     "data": {
      "text/plain": [
       "(12, 7)"
      ]
     },
     "execution_count": 16,
     "metadata": {},
     "output_type": "execute_result"
    }
   ],
   "source": [
    "df.shape"
   ]
  },
  {
   "cell_type": "code",
   "execution_count": null,
   "metadata": {
    "colab": {
     "base_uri": "https://localhost:8080/"
    },
    "id": "IFYxE1ZwkcrE",
    "outputId": "165786ec-aebe-4d3a-e54c-debac26dcff6"
   },
   "outputs": [
    {
     "name": "stdout",
     "output_type": "stream",
     "text": [
      "[[1.08999996e+01 7.61000013e+00 3.10000000e+01 9.74900024e+02\n",
      "  1.71800000e+03 1.75699997e+00]\n",
      " [1.20000000e+01 7.42000008e+00 3.50000000e+01 8.94599976e+02\n",
      "  1.91800000e+03 1.64900005e+00]\n",
      " [1.25000000e+01 8.40999985e+00 4.20000000e+01 8.20200012e+02\n",
      "  2.16400000e+03 1.53199995e+00]\n",
      " [1.77000008e+01 9.43999863e+00 5.40000000e+01 8.44400024e+02\n",
      "  2.41800000e+03 1.37999999e+00]\n",
      " [2.81000004e+01 1.14600000e+01 8.30000000e+01 8.91400024e+02\n",
      "  2.73200000e+03 1.21500003e+00]\n",
      " [3.55999985e+01 1.39099999e+01 1.09000000e+02 9.32900024e+02\n",
      "  3.05300000e+03 1.09800005e+00]\n",
      " [3.17999992e+01 1.30000000e+01 1.25000000e+02 8.84400024e+02\n",
      "  3.16600000e+03 1.03499997e+00]\n",
      " [2.90000000e+01 1.11099997e+01 1.37000000e+02 1.19030005e+03\n",
      "  3.40600000e+03 1.00000000e+00]\n",
      " [2.86000004e+01 1.24399996e+01 1.65000000e+02 1.17850000e+03\n",
      "  3.77200000e+03 9.61000025e-01]\n",
      " [2.67999992e+01 1.06199999e+01 1.85000000e+02 1.32819995e+03\n",
      "  4.01500000e+03 9.27999973e-01]\n",
      " [1.46000004e+01 7.67999983e+00 2.09000000e+02 1.79280005e+03\n",
      "  4.24000000e+03 9.12999988e-01]\n",
      " [1.78999996e+01 8.38000011e+00 2.44000000e+02 2.27600000e+03\n",
      "  4.52700000e+03 8.79999995e-01]]\n"
     ]
    }
   ],
   "source": [
    "x = df.iloc[:, :-1].values\n",
    "print(x)"
   ]
  },
  {
   "cell_type": "code",
   "execution_count": null,
   "metadata": {
    "colab": {
     "base_uri": "https://localhost:8080/"
    },
    "id": "ThYqFn8RkrEL",
    "outputId": "071efa0a-1381-491d-9959-341bb12aad05"
   },
   "outputs": [
    {
     "name": "stdout",
     "output_type": "stream",
     "text": [
      "[234.3999939 263.7999878 308.2999878 347.5       349.3999939 366.6000061\n",
      " 381.1000061 430.3999939 511.7999878 592.4000244 646.0999756 685.5      ]\n"
     ]
    }
   ],
   "source": [
    "y = df.iloc[:, -1].values\n",
    "print(y)"
   ]
  },
  {
   "cell_type": "code",
   "execution_count": null,
   "metadata": {
    "colab": {
     "base_uri": "https://localhost:8080/"
    },
    "id": "U8daRM8gkudF",
    "outputId": "bbda6ff7-befc-49be-b50d-f6e14cab605a"
   },
   "outputs": [
    {
     "data": {
      "text/plain": [
       "LinearRegression()"
      ]
     },
     "execution_count": 19,
     "metadata": {},
     "output_type": "execute_result"
    }
   ],
   "source": [
    "from sklearn.linear_model import LinearRegression\n",
    "regressor = LinearRegression()\n",
    "regressor.fit(x,y)"
   ]
  },
  {
   "cell_type": "code",
   "execution_count": null,
   "metadata": {
    "colab": {
     "base_uri": "https://localhost:8080/"
    },
    "id": "dQkwUqSMlWjL",
    "outputId": "2e45847d-b72b-4ea7-ee50-9155fda8dd30"
   },
   "outputs": [
    {
     "name": "stdout",
     "output_type": "stream",
     "text": [
      "[[234.4  232.09]\n",
      " [263.8  270.48]\n",
      " [308.3  313.57]\n",
      " [347.5  336.6 ]\n",
      " [349.4  341.29]\n",
      " [366.6  368.31]\n",
      " [381.1  373.88]\n",
      " [430.4  446.29]\n",
      " [511.8  522.64]\n",
      " [592.4  582.78]\n",
      " [646.1  647.46]\n",
      " [685.5  681.91]]\n"
     ]
    }
   ],
   "source": [
    "y_pred = regressor.predict(x)\n",
    "np.set_printoptions(precision=2)\n",
    "print(np.concatenate((y.reshape(len(y),1), y_pred.reshape(len(y_pred),1)) ,1))"
   ]
  },
  {
   "cell_type": "code",
   "execution_count": null,
   "metadata": {
    "colab": {
     "base_uri": "https://localhost:8080/"
    },
    "id": "NP70EhUFnIL1",
    "outputId": "de4f06a1-e480-4ce1-8031-061e14a5be00"
   },
   "outputs": [
    {
     "name": "stdout",
     "output_type": "stream",
     "text": [
      "[620.51]\n"
     ]
    }
   ],
   "source": [
    "print(regressor.predict([[20, 10, 300, 2500, 4700 ,0.80]]))"
   ]
  },
  {
   "cell_type": "code",
   "execution_count": null,
   "metadata": {
    "colab": {
     "base_uri": "https://localhost:8080/"
    },
    "id": "QdgUeKEmoiPn",
    "outputId": "607b9418-46df-480a-c5b1-2d586a75da43"
   },
   "outputs": [
    {
     "name": "stdout",
     "output_type": "stream",
     "text": [
      "[-8.04e-01 -4.89e+00 -1.67e+00 -3.30e-03  3.85e-01  2.99e+02]\n"
     ]
    }
   ],
   "source": [
    "print(regressor.coef_)"
   ]
  },
  {
   "cell_type": "code",
   "execution_count": null,
   "metadata": {
    "colab": {
     "base_uri": "https://localhost:8080/"
    },
    "id": "0NSQBoUtoiS-",
    "outputId": "f4df6c66-733c-4dfc-cdb2-e0afe331664a"
   },
   "outputs": [
    {
     "name": "stdout",
     "output_type": "stream",
     "text": [
      "-854.3870439556115\n"
     ]
    }
   ],
   "source": [
    "print(regressor.intercept_)"
   ]
  },
  {
   "cell_type": "markdown",
   "metadata": {
    "id": "-gKHl1FAo0_U"
   },
   "source": [
    "**Equation for the model is:**\n",
    "\n",
    "consumer debt = -854.387 - 0.804(dollars/barrel) - 4.89(% interest on 10 yrs) -1.67(foreign investments/billions) - 0.0033 (Dow Jones industrial average) + 38.5 (GNP/billions of dollars) + 299 (purchasing power US dollar)"
   ]
  },
  {
   "cell_type": "code",
   "execution_count": null,
   "metadata": {
    "colab": {
     "base_uri": "https://localhost:8080/"
    },
    "id": "kAlSKomen0G9",
    "outputId": "ef1ef69c-0a92-4c16-84ef-7d3eb2e184b5"
   },
   "outputs": [
    {
     "data": {
      "text/plain": [
       "66.23962709644108"
      ]
     },
     "execution_count": 25,
     "metadata": {},
     "output_type": "execute_result"
    }
   ],
   "source": [
    "from sklearn.metrics import mean_squared_error\n",
    "mean_squared_error(y, y_pred)"
   ]
  }
 ],
 "metadata": {
  "colab": {
   "name": "multi_reg_2.ipynb",
   "provenance": []
  },
  "kernelspec": {
   "display_name": "Python 3 (ipykernel)",
   "language": "python",
   "name": "python3"
  },
  "language_info": {
   "codemirror_mode": {
    "name": "ipython",
    "version": 3
   },
   "file_extension": ".py",
   "mimetype": "text/x-python",
   "name": "python",
   "nbconvert_exporter": "python",
   "pygments_lexer": "ipython3",
   "version": "3.9.12"
  }
 },
 "nbformat": 4,
 "nbformat_minor": 1
}
