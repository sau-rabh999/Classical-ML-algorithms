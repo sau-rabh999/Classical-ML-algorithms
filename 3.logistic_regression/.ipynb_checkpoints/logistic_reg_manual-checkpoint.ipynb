{
 "cells": [
  {
   "cell_type": "code",
   "execution_count": 1,
   "id": "dcfe4b70",
   "metadata": {},
   "outputs": [
    {
     "name": "stdout",
     "output_type": "stream",
     "text": [
      "Confusion Matrix is\n",
      "7 0\n",
      "4 0\n"
     ]
    },
    {
     "data": {
      "text/plain": [
       "<matplotlib.collections.PathCollection at 0x1b353e53cd0>"
      ]
     },
     "execution_count": 1,
     "metadata": {},
     "output_type": "execute_result"
    },
    {
     "data": {
      "image/png": "[encoded data removed]",
      "text/plain": [
       "<Figure size 432x288 with 1 Axes>"
      ]
     },
     "metadata": {
      "needs_background": "light"
     },
     "output_type": "display_data"
    }
   ],
   "source": [
    "import numpy as np\n",
    "import matplotlib.pyplot as plt\n",
    "\n",
    "x=np.array([1,1.5,2,2.5,3,3.5,4,4.5,5,5.25,5.5,5.75,6,6.5,7,7.5,8,8.5,8.75,9])\n",
    "y=np.array([0,0,0,0,0,0,0,0,0,0,1,1,0,1,1,0,1,1,1,0])\n",
    "TP=0;\n",
    "FN=0;\n",
    "TN=0;\n",
    "FP=0;\n",
    "for i in range(20):\n",
    "    \n",
    "    if (x[i]<5 and y[i]==1):    \n",
    "        FP=FP+1\n",
    "    if  (x[i]>5 and y[i]==0):\n",
    "        FN=FN+1\n",
    "    if (x[i]>5 and y[i]==1):\n",
    "        TP=TP+1\n",
    "print(\"Confusion Matrix is\")  \n",
    "print(TP , FP)\n",
    "print(FN,  TN)   \n",
    "plt.scatter(x,y)"
   ]
  },
  {
   "cell_type": "code",
   "execution_count": 2,
   "id": "4e99a115",
   "metadata": {},
   "outputs": [
    {
     "name": "stdout",
     "output_type": "stream",
     "text": [
      "[0.01798621 0.02931223 0.04742587 0.07585818 0.11920292 0.18242552\n",
      " 0.26894142 0.37754067 0.5        0.5621765  0.62245933 0.6791787\n",
      " 0.73105858 0.81757448 0.88079708 0.92414182 0.95257413 0.97068777\n",
      " 0.97702263 0.98201379]\n"
     ]
    },
    {
     "data": {
      "text/plain": [
       "<matplotlib.collections.PathCollection at 0x1b353f65af0>"
      ]
     },
     "execution_count": 2,
     "metadata": {},
     "output_type": "execute_result"
    },
    {
     "data": {
      "image/png": "[encoded data removed]",
      "text/plain": [
       "<Figure size 432x288 with 1 Axes>"
      ]
     },
     "metadata": {
      "needs_background": "light"
     },
     "output_type": "display_data"
    }
   ],
   "source": [
    "p=(1/(1+np.exp(-(x-5))))\n",
    "d=(p*(1-p))\n",
    "print(p)\n",
    "plt.plot(x,p)\n",
    "plt.scatter(x,d)"
   ]
  },
  {
   "cell_type": "code",
   "execution_count": 3,
   "id": "02905b62",
   "metadata": {},
   "outputs": [
    {
     "ename": "NameError",
     "evalue": "name 'pnew' is not defined",
     "output_type": "error",
     "traceback": [
      "\u001b[1;31m---------------------------------------------------------------------------\u001b[0m",
      "\u001b[1;31mNameError\u001b[0m                                 Traceback (most recent call last)",
      "Input \u001b[1;32mIn [3]\u001b[0m, in \u001b[0;36m<cell line: 4>\u001b[1;34m()\u001b[0m\n\u001b[0;32m      4\u001b[0m \u001b[38;5;28;01mfor\u001b[39;00m i \u001b[38;5;129;01min\u001b[39;00m \u001b[38;5;28mrange\u001b[39m(\u001b[38;5;241m100\u001b[39m):\n\u001b[0;32m      5\u001b[0m     \u001b[38;5;28;01mfor\u001b[39;00m j \u001b[38;5;129;01min\u001b[39;00m \u001b[38;5;28mrange\u001b[39m(\u001b[38;5;241m20\u001b[39m):\n\u001b[1;32m----> 6\u001b[0m         grad_b0new\u001b[38;5;241m=\u001b[39mgrad_b0new \u001b[38;5;241m-\u001b[39m (\u001b[38;5;241m2\u001b[39m\u001b[38;5;241m*\u001b[39m((y[j]\u001b[38;5;241m-\u001b[39m\u001b[43mpnew\u001b[49m[j])\u001b[38;5;241m*\u001b[39mpnew[j]\u001b[38;5;241m*\u001b[39m(\u001b[38;5;241m1\u001b[39m\u001b[38;5;241m-\u001b[39mpnew[j])))\n\u001b[0;32m      7\u001b[0m         grad_b1new\u001b[38;5;241m=\u001b[39mgrad_b1new \u001b[38;5;241m-\u001b[39m (\u001b[38;5;241m2\u001b[39m\u001b[38;5;241m*\u001b[39m((y[j]\u001b[38;5;241m-\u001b[39mpnew[j])\u001b[38;5;241m*\u001b[39mpnew[j]\u001b[38;5;241m*\u001b[39m(\u001b[38;5;241m1\u001b[39m\u001b[38;5;241m-\u001b[39mpnew[j])\u001b[38;5;241m*\u001b[39mx[j]))                    \n\u001b[0;32m      8\u001b[0m     b0new\u001b[38;5;241m=\u001b[39mb0new\u001b[38;5;241m-\u001b[39mlearning_rate\u001b[38;5;241m*\u001b[39m grad_b0new\n",
      "\u001b[1;31mNameError\u001b[0m: name 'pnew' is not defined"
     ]
    }
   ],
   "source": [
    "grad_b0new=0\n",
    "grad_b1new =0\n",
    "learning_rate=0.01\n",
    "for i in range(100):\n",
    "    for j in range(20):\n",
    "        grad_b0new=grad_b0new - (2*((y[j]-pnew[j])*pnew[j]*(1-pnew[j])))\n",
    "        grad_b1new=grad_b1new - (2*((y[j]-pnew[j])*pnew[j]*(1-pnew[j])*x[j]))                    \n",
    "    b0new=b0new-learning_rate* grad_b0new\n",
    "    b1new=b1new-learning_rate* grad_b1new \n",
    "    print(b0new,b1new)\n",
    "    for k in range(20):                         \n",
    "        pnew[k]=(1/(1+np.exp(-(b0new+b1new*x[k]))))  \n",
    "plt.plot(x,pnew)\n",
    "plt.scatter(x,y,c='r')"
   ]
  }
 ],
 "metadata": {
  "kernelspec": {
   "display_name": "Python 3 (ipykernel)",
   "language": "python",
   "name": "python3"
  },
  "language_info": {
   "codemirror_mode": {
    "name": "ipython",
    "version": 3
   },
   "file_extension": ".py",
   "mimetype": "text/x-python",
   "name": "python",
   "nbconvert_exporter": "python",
   "pygments_lexer": "ipython3",
   "version": "3.9.12"
  }
 },
 "nbformat": 4,
 "nbformat_minor": 5
}
